{
 "cells": [
  {
   "cell_type": "code",
   "execution_count": 10,
   "metadata": {
    "collapsed": true
   },
   "outputs": [
    {
     "data": {
      "text/plain": "    age  anaemia  creatinine_phosphokinase  diabetes  ejection_fraction  \\\n0  75.0        0                       582         0                 20   \n1  55.0        0                      7861         0                 38   \n2  65.0        0                       146         0                 20   \n3  50.0        1                       111         0                 20   \n4  65.0        1                       160         1                 20   \n5  90.0        1                        47         0                 40   \n6  75.0        1                       246         0                 15   \n7  60.0        1                       315         1                 60   \n8  65.0        0                       157         0                 65   \n9  80.0        1                       123         0                 35   \n\n   high_blood_pressure  platelets  serum_creatinine  serum_sodium  sex  \\\n0                    1  265000.00               1.9           130    1   \n1                    0  263358.03               1.1           136    1   \n2                    0  162000.00               1.3           129    1   \n3                    0  210000.00               1.9           137    1   \n4                    0  327000.00               2.7           116    0   \n5                    1  204000.00               2.1           132    1   \n6                    0  127000.00               1.2           137    1   \n7                    0  454000.00               1.1           131    1   \n8                    0  263358.03               1.5           138    0   \n9                    1  388000.00               9.4           133    1   \n\n   smoking  time  DEATH_EVENT  \n0        0     4            1  \n1        0     6            1  \n2        1     7            1  \n3        0     7            1  \n4        0     8            1  \n5        1     8            1  \n6        0    10            1  \n7        1    10            1  \n8        0    10            1  \n9        1    10            1  ",
      "text/html": "<div>\n<style scoped>\n    .dataframe tbody tr th:only-of-type {\n        vertical-align: middle;\n    }\n\n    .dataframe tbody tr th {\n        vertical-align: top;\n    }\n\n    .dataframe thead th {\n        text-align: right;\n    }\n</style>\n<table border=\"1\" class=\"dataframe\">\n  <thead>\n    <tr style=\"text-align: right;\">\n      <th></th>\n      <th>age</th>\n      <th>anaemia</th>\n      <th>creatinine_phosphokinase</th>\n      <th>diabetes</th>\n      <th>ejection_fraction</th>\n      <th>high_blood_pressure</th>\n      <th>platelets</th>\n      <th>serum_creatinine</th>\n      <th>serum_sodium</th>\n      <th>sex</th>\n      <th>smoking</th>\n      <th>time</th>\n      <th>DEATH_EVENT</th>\n    </tr>\n  </thead>\n  <tbody>\n    <tr>\n      <th>0</th>\n      <td>75.0</td>\n      <td>0</td>\n      <td>582</td>\n      <td>0</td>\n      <td>20</td>\n      <td>1</td>\n      <td>265000.00</td>\n      <td>1.9</td>\n      <td>130</td>\n      <td>1</td>\n      <td>0</td>\n      <td>4</td>\n      <td>1</td>\n    </tr>\n    <tr>\n      <th>1</th>\n      <td>55.0</td>\n      <td>0</td>\n      <td>7861</td>\n      <td>0</td>\n      <td>38</td>\n      <td>0</td>\n      <td>263358.03</td>\n      <td>1.1</td>\n      <td>136</td>\n      <td>1</td>\n      <td>0</td>\n      <td>6</td>\n      <td>1</td>\n    </tr>\n    <tr>\n      <th>2</th>\n      <td>65.0</td>\n      <td>0</td>\n      <td>146</td>\n      <td>0</td>\n      <td>20</td>\n      <td>0</td>\n      <td>162000.00</td>\n      <td>1.3</td>\n      <td>129</td>\n      <td>1</td>\n      <td>1</td>\n      <td>7</td>\n      <td>1</td>\n    </tr>\n    <tr>\n      <th>3</th>\n      <td>50.0</td>\n      <td>1</td>\n      <td>111</td>\n      <td>0</td>\n      <td>20</td>\n      <td>0</td>\n      <td>210000.00</td>\n      <td>1.9</td>\n      <td>137</td>\n      <td>1</td>\n      <td>0</td>\n      <td>7</td>\n      <td>1</td>\n    </tr>\n    <tr>\n      <th>4</th>\n      <td>65.0</td>\n      <td>1</td>\n      <td>160</td>\n      <td>1</td>\n      <td>20</td>\n      <td>0</td>\n      <td>327000.00</td>\n      <td>2.7</td>\n      <td>116</td>\n      <td>0</td>\n      <td>0</td>\n      <td>8</td>\n      <td>1</td>\n    </tr>\n    <tr>\n      <th>5</th>\n      <td>90.0</td>\n      <td>1</td>\n      <td>47</td>\n      <td>0</td>\n      <td>40</td>\n      <td>1</td>\n      <td>204000.00</td>\n      <td>2.1</td>\n      <td>132</td>\n      <td>1</td>\n      <td>1</td>\n      <td>8</td>\n      <td>1</td>\n    </tr>\n    <tr>\n      <th>6</th>\n      <td>75.0</td>\n      <td>1</td>\n      <td>246</td>\n      <td>0</td>\n      <td>15</td>\n      <td>0</td>\n      <td>127000.00</td>\n      <td>1.2</td>\n      <td>137</td>\n      <td>1</td>\n      <td>0</td>\n      <td>10</td>\n      <td>1</td>\n    </tr>\n    <tr>\n      <th>7</th>\n      <td>60.0</td>\n      <td>1</td>\n      <td>315</td>\n      <td>1</td>\n      <td>60</td>\n      <td>0</td>\n      <td>454000.00</td>\n      <td>1.1</td>\n      <td>131</td>\n      <td>1</td>\n      <td>1</td>\n      <td>10</td>\n      <td>1</td>\n    </tr>\n    <tr>\n      <th>8</th>\n      <td>65.0</td>\n      <td>0</td>\n      <td>157</td>\n      <td>0</td>\n      <td>65</td>\n      <td>0</td>\n      <td>263358.03</td>\n      <td>1.5</td>\n      <td>138</td>\n      <td>0</td>\n      <td>0</td>\n      <td>10</td>\n      <td>1</td>\n    </tr>\n    <tr>\n      <th>9</th>\n      <td>80.0</td>\n      <td>1</td>\n      <td>123</td>\n      <td>0</td>\n      <td>35</td>\n      <td>1</td>\n      <td>388000.00</td>\n      <td>9.4</td>\n      <td>133</td>\n      <td>1</td>\n      <td>1</td>\n      <td>10</td>\n      <td>1</td>\n    </tr>\n  </tbody>\n</table>\n</div>"
     },
     "execution_count": 10,
     "metadata": {},
     "output_type": "execute_result"
    }
   ],
   "source": [
    "import io\n",
    "import pandas as pd\n",
    "import numpy as np\n",
    "from sklearn.model_selection import train_test_split\n",
    "\n",
    "df = pd.read_excel('heart_failure_clinical_records_dataset.xls')\n",
    "\n",
    "df.head(10)"
   ]
  },
  {
   "cell_type": "code",
   "execution_count": 11,
   "outputs": [
    {
     "name": "stdout",
     "output_type": "stream",
     "text": [
      "      age  anaemia  cr_ph  diabetes  ej_fr  hbp  platelets  ser_cr  ser_na  \\\n",
      "0    75.0        0    582         0     20    1  265000.00     1.9     130   \n",
      "1    55.0        0   7861         0     38    0  263358.03     1.1     136   \n",
      "2    65.0        0    146         0     20    0  162000.00     1.3     129   \n",
      "3    50.0        1    111         0     20    0  210000.00     1.9     137   \n",
      "4    65.0        1    160         1     20    0  327000.00     2.7     116   \n",
      "..    ...      ...    ...       ...    ...  ...        ...     ...     ...   \n",
      "294  62.0        0     61         1     38    1  155000.00     1.1     143   \n",
      "295  55.0        0   1820         0     38    0  270000.00     1.2     139   \n",
      "296  45.0        0   2060         1     60    0  742000.00     0.8     138   \n",
      "297  45.0        0   2413         0     38    0  140000.00     1.4     140   \n",
      "298  50.0        0    196         0     45    0  395000.00     1.6     136   \n",
      "\n",
      "     sex  smoking  time  status  \n",
      "0      1        0     4       1  \n",
      "1      1        0     6       1  \n",
      "2      1        1     7       1  \n",
      "3      1        0     7       1  \n",
      "4      0        0     8       1  \n",
      "..   ...      ...   ...     ...  \n",
      "294    1        1   270       0  \n",
      "295    0        0   271       0  \n",
      "296    0        0   278       0  \n",
      "297    1        1   280       0  \n",
      "298    1        1   285       0  \n",
      "\n",
      "[299 rows x 13 columns]\n"
     ]
    }
   ],
   "source": [
    "df. rename(columns = {'creatinine_phosphokinase':'cr_ph', 'ejection_fraction':'ej_fr', 'high_blood_pressure':'hbp','serum_creatinine':'ser_cr', 'serum_sodium':'ser_na','DEATH_EVENT':'status'}, inplace = True)\n",
    "# df('creatinine_phosphokinase') =\n",
    "print(df)"
   ],
   "metadata": {
    "collapsed": false,
    "pycharm": {
     "name": "#%%\n"
    }
   }
  },
  {
   "cell_type": "code",
   "execution_count": 12,
   "outputs": [
    {
     "name": "stdout",
     "output_type": "stream",
     "text": [
      "\n",
      " My Normalised data:\n",
      " [[0.26 0.18 0.   0.56 0.76]\n",
      " [0.19 0.25 0.   0.56 0.77]\n",
      " [0.28 0.24 0.   0.55 0.75]\n",
      " [0.25 0.1  0.01 0.57 0.78]]\n"
     ]
    }
   ],
   "source": [
    "from numpy import set_printoptions\n",
    "from sklearn.preprocessing import Normalizer\n",
    "# #Splitting into dependent and independent data\n",
    "# #Splitting into dependent and independent data\n",
    "X_data = df[['age', 'ej_fr', 'ser_cr', 'ser_na','time']]\n",
    "# X_data = df.drop(['status','anaemia','cr_ph','diabetes','hbp','platelets','sex','smoking','time'], axis=1) #independent variables\n",
    "Y_data = df.pop('status')\n",
    "\n",
    "\n",
    "#normalised the independent data\n",
    "#l2 leverages more features and distances between points remain the same\n",
    "df_normaliser=Normalizer(norm='l2').fit(X_data)\n",
    "my_normalized_data =df_normaliser.transform(X_data)\n",
    "set_printoptions(precision=2)\n",
    "print('\\n My Normalised data:\\n', my_normalized_data[200:204])\n",
    "#dataset are now within same ranges"
   ],
   "metadata": {
    "collapsed": false,
    "pycharm": {
     "name": "#%%\n"
    }
   }
  },
  {
   "cell_type": "code",
   "execution_count": 13,
   "outputs": [
    {
     "name": "stdout",
     "output_type": "stream",
     "text": [
      "\n",
      " The total of training dataset: (209, 5)\n",
      "\n",
      " The total of test dataset: (90, 5)\n",
      "(90,)\n"
     ]
    }
   ],
   "source": [
    "# Spliiting dataset into train and test\n",
    "from sklearn.model_selection import train_test_split\n",
    "\n",
    "# Split dataset into training set and test set\n",
    "X_train, X_test, Y_train, Y_test = train_test_split(X_data,\n",
    "                                                    Y_data,\n",
    "                                                    test_size=0.3,   # 70% training and 30% test\n",
    "                                                    random_state=1)\n",
    "#Checking the  number of test and train data\n",
    "print('\\n The total of training dataset:', X_train.shape)\n",
    "print('\\n The total of test dataset:', X_test.shape)\n",
    "print(Y_test.shape)"
   ],
   "metadata": {
    "collapsed": false,
    "pycharm": {
     "name": "#%%\n"
    }
   }
  },
  {
   "cell_type": "code",
   "execution_count": 14,
   "outputs": [
    {
     "name": "stdout",
     "output_type": "stream",
     "text": [
      "[0 0 1 0 0 0 0 0 1 0 0 0 1 0 0 0 0 0 0 0 0 1 0 1 0 0 0 0 0 0 0 0 0 0 0 0 0\n",
      " 0 0 0 1 0 0 0 0 1 0 0 1 0 0 0 0 1 0 0 0 0 0 0 0 0 0 0 1 0 0 0 0 1 0 0 1 0\n",
      " 0 1 0 1 0 1 0 0 1 0 0 0 0 0 0 1]\n"
     ]
    }
   ],
   "source": [
    "from sklearn.neighbors import KNeighborsClassifier as KNN\n",
    "#Fitting model using original dataset\n",
    "second_model = KNN(n_neighbors=8, leaf_size=30,metric='minkowski',p=2, weights='uniform')\n",
    "second_model.fit(X_train,Y_train)\n",
    "Y_Pred = second_model.predict(X_test)\n",
    "print(Y_Pred)"
   ],
   "metadata": {
    "collapsed": false,
    "pycharm": {
     "name": "#%%\n"
    }
   }
  },
  {
   "cell_type": "code",
   "execution_count": 15,
   "outputs": [
    {
     "name": "stdout",
     "output_type": "stream",
     "text": [
      "\n",
      " KNN accuracy:0.88\n",
      "\n"
     ]
    }
   ],
   "source": [
    "from sklearn.metrics import accuracy_score\n",
    "\n",
    "#Checking first model accuracy\n",
    "model_acc = accuracy_score(Y_test, Y_Pred)\n",
    "print('\\n KNN accuracy:{:.2f}\\n'.format(model_acc))"
   ],
   "metadata": {
    "collapsed": false,
    "pycharm": {
     "name": "#%%\n"
    }
   }
  },
  {
   "cell_type": "code",
   "execution_count": 16,
   "outputs": [
    {
     "name": "stdout",
     "output_type": "stream",
     "text": [
      "The confusion matrix: \n",
      " [[63  1]\n",
      " [10 16]] \n",
      "\n",
      "Classification report:\n",
      "                precision    recall  f1-score   support\n",
      "\n",
      "           0       0.86      0.98      0.92        64\n",
      "           1       0.94      0.62      0.74        26\n",
      "\n",
      "    accuracy                           0.88        90\n",
      "   macro avg       0.90      0.80      0.83        90\n",
      "weighted avg       0.89      0.88      0.87        90\n",
      "\n"
     ]
    }
   ],
   "source": [
    "from sklearn.metrics import classification_report, confusion_matrix\n",
    "\n",
    "#Confusion matrix for first model\n",
    "#Constructing confusion matrix\n",
    "box = confusion_matrix(Y_test,Y_Pred)\n",
    "# print d matrix\n",
    "print('The confusion matrix: \\n', box, '\\n')\n",
    "# construct classification report\n",
    "class_report = classification_report(Y_test, Y_Pred)\n",
    "print('Classification report:\\n ', class_report) # Relate it to the success\n",
    "# matrix_info ="
   ],
   "metadata": {
    "collapsed": false,
    "pycharm": {
     "name": "#%%\n"
    }
   }
  },
  {
   "cell_type": "code",
   "execution_count": 17,
   "outputs": [
    {
     "data": {
      "text/plain": "<Figure size 720x504 with 2 Axes>",
      "image/png": "[encoded data removed]"
     },
     "metadata": {
      "needs_background": "light"
     },
     "output_type": "display_data"
    }
   ],
   "source": [
    "from matplotlib import pyplot as plt\n",
    "import seaborn as sn\n",
    "\n",
    "ds= pd.DataFrame(box, index = ['Alive(0)', 'Not_Alive(1)'],\n",
    "                            columns = ['Alive', 'Not_alive'])\n",
    "plt.figure(figsize = (10,7))\n",
    "sn.heatmap(ds, annot=True, cmap='magma', fmt='.5g',\n",
    "            annot_kws={\"size\":14}).set_title('Confusion matrix', fontsize = 25, y=1.05)\n",
    "plt.xlabel('True values', fontsize = 18)\n",
    "plt.ylabel('Predicted values', fontsize = 18)\n",
    "plt.show()"
   ],
   "metadata": {
    "collapsed": false,
    "pycharm": {
     "name": "#%%\n"
    }
   }
  },
  {
   "cell_type": "code",
   "execution_count": 18,
   "outputs": [
    {
     "name": "stdout",
     "output_type": "stream",
     "text": [
      "\n",
      "Cross Val mean :0.719 (std:0.106)\n",
      "\n",
      "Best hyperparameters: {'n_neighbors': 8}\n",
      "\n",
      "Suggested Best Parameters:\n",
      " {'algorithm': 'auto', 'leaf_size': 30, 'metric': 'minkowski', 'metric_params': None, 'n_jobs': None, 'n_neighbors': 8, 'p': 2, 'weights': 'uniform'}\n",
      "Best Score: %s0.466\n",
      "\n"
     ]
    }
   ],
   "source": [
    "from sklearn.model_selection import StratifiedKFold,cross_val_score,GridSearchCV\n",
    "from sklearn.metrics import accuracy_score\n",
    "\n",
    "#model tuning using gridsearch for first model with full dataset\n",
    "#creating cross validation split\n",
    "kfold_split =StratifiedKFold(n_splits=10, shuffle=False)\n",
    "\n",
    "#declaring a dictionaryof hyperparameters and values\n",
    "classifier_hypara = dict()\n",
    "classifier_hypara['n_neighbors'] = [2,3,4,6,8,10,12]\n",
    "\n",
    "#Performing gridsearch and fitting\n",
    "classifier_grid = GridSearchCV(second_model,classifier_hypara, scoring='f1', n_jobs= -1, cv=kfold_split)\n",
    "classifier_grid_fit =classifier_grid.fit(X_data, Y_data)\n",
    "\n",
    "\n",
    "#Computing the array containingthe 10-folds CV\n",
    "CV_scores = -cross_val_score(classifier_grid_fit, X_train, Y_train, cv= kfold_split)\n",
    "print(\"\\nCross Val mean :{:.3f} (std:{:.3f})\".format(CV_scores.mean()*-1, CV_scores.std()), end=\"\\n\\n\")\n",
    "\n",
    "#Printing the hyperparameters\n",
    "print('Best hyperparameters: %s'% classifier_grid_fit.best_params_)\n",
    "\n",
    "#Printing best hyperparameters\n",
    "print('\\nSuggested Best Parameters:\\n', classifier_grid_fit.best_estimator_.get_params())\n",
    "print('Best Score: %s{:.3f}\\n'.format(classifier_grid_fit.best_score_))"
   ],
   "metadata": {
    "collapsed": false,
    "pycharm": {
     "name": "#%%\n"
    }
   }
  }
 ],
 "metadata": {
  "kernelspec": {
   "display_name": "Python 3",
   "language": "python",
   "name": "python3"
  },
  "language_info": {
   "codemirror_mode": {
    "name": "ipython",
    "version": 2
   },
   "file_extension": ".py",
   "mimetype": "text/x-python",
   "name": "python",
   "nbconvert_exporter": "python",
   "pygments_lexer": "ipython2",
   "version": "2.7.6"
  }
 },
 "nbformat": 4,
 "nbformat_minor": 0
}