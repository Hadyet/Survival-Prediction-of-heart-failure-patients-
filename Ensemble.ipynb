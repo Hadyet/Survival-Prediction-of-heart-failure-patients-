{
 "cells": [
  {
   "cell_type": "code",
   "execution_count": 56,
   "metadata": {
    "collapsed": true
   },
   "outputs": [
    {
     "data": {
      "text/plain": "    age  anaemia  creatinine_phosphokinase  diabetes  ejection_fraction  \\\n0  75.0        0                       582         0                 20   \n1  55.0        0                      7861         0                 38   \n2  65.0        0                       146         0                 20   \n3  50.0        1                       111         0                 20   \n4  65.0        1                       160         1                 20   \n5  90.0        1                        47         0                 40   \n6  75.0        1                       246         0                 15   \n7  60.0        1                       315         1                 60   \n8  65.0        0                       157         0                 65   \n9  80.0        1                       123         0                 35   \n\n   high_blood_pressure  platelets  serum_creatinine  serum_sodium  sex  \\\n0                    1  265000.00               1.9           130    1   \n1                    0  263358.03               1.1           136    1   \n2                    0  162000.00               1.3           129    1   \n3                    0  210000.00               1.9           137    1   \n4                    0  327000.00               2.7           116    0   \n5                    1  204000.00               2.1           132    1   \n6                    0  127000.00               1.2           137    1   \n7                    0  454000.00               1.1           131    1   \n8                    0  263358.03               1.5           138    0   \n9                    1  388000.00               9.4           133    1   \n\n   smoking  time  DEATH_EVENT  \n0        0     4            1  \n1        0     6            1  \n2        1     7            1  \n3        0     7            1  \n4        0     8            1  \n5        1     8            1  \n6        0    10            1  \n7        1    10            1  \n8        0    10            1  \n9        1    10            1  ",
      "text/html": "<div>\n<style scoped>\n    .dataframe tbody tr th:only-of-type {\n        vertical-align: middle;\n    }\n\n    .dataframe tbody tr th {\n        vertical-align: top;\n    }\n\n    .dataframe thead th {\n        text-align: right;\n    }\n</style>\n<table border=\"1\" class=\"dataframe\">\n  <thead>\n    <tr style=\"text-align: right;\">\n      <th></th>\n      <th>age</th>\n      <th>anaemia</th>\n      <th>creatinine_phosphokinase</th>\n      <th>diabetes</th>\n      <th>ejection_fraction</th>\n      <th>high_blood_pressure</th>\n      <th>platelets</th>\n      <th>serum_creatinine</th>\n      <th>serum_sodium</th>\n      <th>sex</th>\n      <th>smoking</th>\n      <th>time</th>\n      <th>DEATH_EVENT</th>\n    </tr>\n  </thead>\n  <tbody>\n    <tr>\n      <th>0</th>\n      <td>75.0</td>\n      <td>0</td>\n      <td>582</td>\n      <td>0</td>\n      <td>20</td>\n      <td>1</td>\n      <td>265000.00</td>\n      <td>1.9</td>\n      <td>130</td>\n      <td>1</td>\n      <td>0</td>\n      <td>4</td>\n      <td>1</td>\n    </tr>\n    <tr>\n      <th>1</th>\n      <td>55.0</td>\n      <td>0</td>\n      <td>7861</td>\n      <td>0</td>\n      <td>38</td>\n      <td>0</td>\n      <td>263358.03</td>\n      <td>1.1</td>\n      <td>136</td>\n      <td>1</td>\n      <td>0</td>\n      <td>6</td>\n      <td>1</td>\n    </tr>\n    <tr>\n      <th>2</th>\n      <td>65.0</td>\n      <td>0</td>\n      <td>146</td>\n      <td>0</td>\n      <td>20</td>\n      <td>0</td>\n      <td>162000.00</td>\n      <td>1.3</td>\n      <td>129</td>\n      <td>1</td>\n      <td>1</td>\n      <td>7</td>\n      <td>1</td>\n    </tr>\n    <tr>\n      <th>3</th>\n      <td>50.0</td>\n      <td>1</td>\n      <td>111</td>\n      <td>0</td>\n      <td>20</td>\n      <td>0</td>\n      <td>210000.00</td>\n      <td>1.9</td>\n      <td>137</td>\n      <td>1</td>\n      <td>0</td>\n      <td>7</td>\n      <td>1</td>\n    </tr>\n    <tr>\n      <th>4</th>\n      <td>65.0</td>\n      <td>1</td>\n      <td>160</td>\n      <td>1</td>\n      <td>20</td>\n      <td>0</td>\n      <td>327000.00</td>\n      <td>2.7</td>\n      <td>116</td>\n      <td>0</td>\n      <td>0</td>\n      <td>8</td>\n      <td>1</td>\n    </tr>\n    <tr>\n      <th>5</th>\n      <td>90.0</td>\n      <td>1</td>\n      <td>47</td>\n      <td>0</td>\n      <td>40</td>\n      <td>1</td>\n      <td>204000.00</td>\n      <td>2.1</td>\n      <td>132</td>\n      <td>1</td>\n      <td>1</td>\n      <td>8</td>\n      <td>1</td>\n    </tr>\n    <tr>\n      <th>6</th>\n      <td>75.0</td>\n      <td>1</td>\n      <td>246</td>\n      <td>0</td>\n      <td>15</td>\n      <td>0</td>\n      <td>127000.00</td>\n      <td>1.2</td>\n      <td>137</td>\n      <td>1</td>\n      <td>0</td>\n      <td>10</td>\n      <td>1</td>\n    </tr>\n    <tr>\n      <th>7</th>\n      <td>60.0</td>\n      <td>1</td>\n      <td>315</td>\n      <td>1</td>\n      <td>60</td>\n      <td>0</td>\n      <td>454000.00</td>\n      <td>1.1</td>\n      <td>131</td>\n      <td>1</td>\n      <td>1</td>\n      <td>10</td>\n      <td>1</td>\n    </tr>\n    <tr>\n      <th>8</th>\n      <td>65.0</td>\n      <td>0</td>\n      <td>157</td>\n      <td>0</td>\n      <td>65</td>\n      <td>0</td>\n      <td>263358.03</td>\n      <td>1.5</td>\n      <td>138</td>\n      <td>0</td>\n      <td>0</td>\n      <td>10</td>\n      <td>1</td>\n    </tr>\n    <tr>\n      <th>9</th>\n      <td>80.0</td>\n      <td>1</td>\n      <td>123</td>\n      <td>0</td>\n      <td>35</td>\n      <td>1</td>\n      <td>388000.00</td>\n      <td>9.4</td>\n      <td>133</td>\n      <td>1</td>\n      <td>1</td>\n      <td>10</td>\n      <td>1</td>\n    </tr>\n  </tbody>\n</table>\n</div>"
     },
     "execution_count": 56,
     "metadata": {},
     "output_type": "execute_result"
    }
   ],
   "source": [
    "import io\n",
    "import pandas as pd\n",
    "import joblib as jb\n",
    "import numpy as np\n",
    "from sklearn.model_selection import train_test_split\n",
    "\n",
    "df = pd.read_excel('heart_failure_clinical_records_dataset.xls')\n",
    "\n",
    "df.head(10)"
   ]
  },
  {
   "cell_type": "code",
   "execution_count": 57,
   "outputs": [
    {
     "name": "stdout",
     "output_type": "stream",
     "text": [
      "      age  anaemia  cr_ph  diabetes  ej_fr  hbp  platelets  ser_cr  ser_na  \\\n",
      "0    75.0        0    582         0     20    1  265000.00     1.9     130   \n",
      "1    55.0        0   7861         0     38    0  263358.03     1.1     136   \n",
      "2    65.0        0    146         0     20    0  162000.00     1.3     129   \n",
      "3    50.0        1    111         0     20    0  210000.00     1.9     137   \n",
      "4    65.0        1    160         1     20    0  327000.00     2.7     116   \n",
      "..    ...      ...    ...       ...    ...  ...        ...     ...     ...   \n",
      "294  62.0        0     61         1     38    1  155000.00     1.1     143   \n",
      "295  55.0        0   1820         0     38    0  270000.00     1.2     139   \n",
      "296  45.0        0   2060         1     60    0  742000.00     0.8     138   \n",
      "297  45.0        0   2413         0     38    0  140000.00     1.4     140   \n",
      "298  50.0        0    196         0     45    0  395000.00     1.6     136   \n",
      "\n",
      "     sex  smoking  time  status  \n",
      "0      1        0     4       1  \n",
      "1      1        0     6       1  \n",
      "2      1        1     7       1  \n",
      "3      1        0     7       1  \n",
      "4      0        0     8       1  \n",
      "..   ...      ...   ...     ...  \n",
      "294    1        1   270       0  \n",
      "295    0        0   271       0  \n",
      "296    0        0   278       0  \n",
      "297    1        1   280       0  \n",
      "298    1        1   285       0  \n",
      "\n",
      "[299 rows x 13 columns]\n"
     ]
    }
   ],
   "source": [
    "df. rename(columns = {'creatinine_phosphokinase':'cr_ph', 'ejection_fraction':'ej_fr', 'high_blood_pressure':'hbp','serum_creatinine':'ser_cr', 'serum_sodium':'ser_na','DEATH_EVENT':'status'}, inplace = True)\n",
    "# df('creatinine_phosphokinase') =\n",
    "print(df)"
   ],
   "metadata": {
    "collapsed": false,
    "pycharm": {
     "name": "#%%\n"
    }
   }
  },
  {
   "cell_type": "code",
   "execution_count": 58,
   "outputs": [
    {
     "name": "stdout",
     "output_type": "stream",
     "text": [
      "\n",
      " My Normalised data:\n",
      " [[0.26 0.18 0.   0.56 0.76]\n",
      " [0.19 0.25 0.   0.56 0.77]\n",
      " [0.28 0.24 0.   0.55 0.75]\n",
      " [0.25 0.1  0.01 0.57 0.78]]\n"
     ]
    }
   ],
   "source": [
    "from numpy import set_printoptions\n",
    "from sklearn.preprocessing import Normalizer\n",
    "\n",
    "# #Splitting into dependent and independent data\n",
    "X_data = df[['age', 'ej_fr', 'ser_cr', 'ser_na','time']] # USING THE SELECTED FEATURES BASED ON FORWARD FEATURE SELECTION\n",
    "# X_data = df.drop(['status'], axis=1) #independent variables\n",
    "Y_data = df.pop('status')\n",
    "\n",
    "#normalised the independent data\n",
    "#l2 leverages more features and distances between points remain the same\n",
    "df_normaliser = Normalizer(norm='l2').fit(X_data)\n",
    "my_normalized_data = df_normaliser.transform(X_data)\n",
    "set_printoptions(precision=2)\n",
    "print('\\n My Normalised data:\\n', my_normalized_data[200:204])\n",
    "#dataset are now within same ranges"
   ],
   "metadata": {
    "collapsed": false,
    "pycharm": {
     "name": "#%%\n"
    }
   }
  },
  {
   "cell_type": "code",
   "execution_count": 59,
   "outputs": [
    {
     "name": "stdout",
     "output_type": "stream",
     "text": [
      "\n",
      " The total of training dataset: (209, 5)\n",
      "\n",
      " The total of test dataset: (90, 5)\n",
      "(90,)\n"
     ]
    }
   ],
   "source": [
    "# Spliiting dataset into train and test\n",
    "from sklearn.model_selection import train_test_split\n",
    "\n",
    "# Split dataset into training set and test set\n",
    "X_train, X_test, Y_train, Y_test = train_test_split(X_data,\n",
    "                                                    Y_data,\n",
    "                                                    test_size=0.3,  # 70% training and 30% test\n",
    "                                                    random_state=1)\n",
    "#Checking the  number of test and train data\n",
    "print('\\n The total of training dataset:', X_train.shape)\n",
    "print('\\n The total of test dataset:', X_test.shape)\n",
    "print(Y_test.shape)"
   ],
   "metadata": {
    "collapsed": false,
    "pycharm": {
     "name": "#%%\n"
    }
   }
  },
  {
   "cell_type": "code",
   "execution_count": 60,
   "outputs": [
    {
     "name": "stdout",
     "output_type": "stream",
     "text": [
      "\n",
      "DecisionTreeClassifier: :0.844\n",
      "\n",
      "Supportvector: :0.856\n",
      "\n",
      "LogisticRegression: :0.833\n",
      "\n",
      "KNeighborsClassifier: :0.878\n"
     ]
    }
   ],
   "source": [
    "from sklearn.metrics import accuracy_score, confusion_matrix, classification_report\n",
    "#importing the models\n",
    "from sklearn.tree import DecisionTreeClassifier\n",
    "from sklearn.linear_model import LogisticRegression\n",
    "from sklearn.neighbors import KNeighborsClassifier\n",
    "from sklearn.ensemble import VotingClassifier\n",
    "from sklearn.svm import SVC\n",
    "\n",
    "svm =SVC(kernel='poly', max_iter=-1, degree=3, probability=True)\n",
    "dt = DecisionTreeClassifier(criterion='entropy', max_depth=3, min_samples_leaf=0.05, min_samples_split=2,random_state=1)\n",
    "kn =KNeighborsClassifier(n_neighbors=8,leaf_size=30,metric='minkowski', p=2)\n",
    "lr =LogisticRegression(intercept_scaling= '1',max_iter=1000,multi_class= 'auto', penalty='l2',random_state=1, solver='newton-cg',tol=0.0001, verbose= 0, warm_start=False)\n",
    "\n",
    "class_list = [('DecisionTreeClassifier:',dt),('Supportvector:',svm),('LogisticRegression:',lr),('KNeighborsClassifier:',kn)]\n",
    "\n",
    "#iteration\n",
    "for clsf_name,clsf in class_list:\n",
    "    clsf.fit(X_train,Y_train)\n",
    "    Y_pred = clsf.predict(X_test)\n",
    "    print('\\n{:s} :{:.3f}'.format(clsf_name, accuracy_score(Y_test, Y_pred)))\n",
    "\n",
    "votingc = VotingClassifier(estimators=class_list, voting='soft')\n",
    "votingc.fit(X_train, Y_train)\n",
    "\n",
    "#predict test label\n",
    "Y_pred_vc = clsf.predict(X_test)\n"
   ],
   "metadata": {
    "collapsed": false,
    "pycharm": {
     "name": "#%%\n"
    }
   }
  },
  {
   "cell_type": "code",
   "execution_count": 61,
   "outputs": [
    {
     "name": "stdout",
     "output_type": "stream",
     "text": [
      "\n",
      " voting classifier 0.878\n"
     ]
    }
   ],
   "source": [
    "\n",
    "print('\\n voting classifier {:.3f}'. format(accuracy_score(Y_test, Y_pred_vc)))"
   ],
   "metadata": {
    "collapsed": false,
    "pycharm": {
     "name": "#%%\n"
    }
   }
  },
  {
   "cell_type": "code",
   "execution_count": 62,
   "outputs": [
    {
     "name": "stdout",
     "output_type": "stream",
     "text": [
      "\n",
      " Confusion matrix on heart failure data\n",
      " [[63  1]\n",
      " [10 16]] \n",
      "\n",
      "Classification report:\n",
      "                precision    recall  f1-score   support\n",
      "\n",
      "           0       0.86      0.98      0.92        64\n",
      "           1       0.94      0.62      0.74        26\n",
      "\n",
      "    accuracy                           0.88        90\n",
      "   macro avg       0.90      0.80      0.83        90\n",
      "weighted avg       0.89      0.88      0.87        90\n",
      "\n"
     ]
    }
   ],
   "source": [
    "\n",
    "#confusion matrix\n",
    "matrix_info = confusion_matrix(Y_test, Y_pred_vc)\n",
    "print('\\n Confusion matrix on heart failure data\\n', matrix_info, '\\n')\n",
    "\n",
    "class_report = classification_report(Y_test, Y_pred_vc)\n",
    "print('Classification report:\\n ', class_report)\n",
    "\n"
   ],
   "metadata": {
    "collapsed": false,
    "pycharm": {
     "name": "#%%\n"
    }
   }
  },
  {
   "cell_type": "code",
   "execution_count": 63,
   "outputs": [
    {
     "name": "stdout",
     "output_type": "stream",
     "text": [
      "      age  ej_fr  ser_cr  ser_na  time  status\n",
      "122  60.0     38    0.75     140    95       0\n",
      "246  55.0     25    1.10     138   214       1\n",
      "278  50.0     30    0.70     136   246       0\n",
      "251  55.0     35    0.80     143   215       0\n",
      "19   48.0     55    1.90     121    15       1\n"
     ]
    }
   ],
   "source": [
    "#MAKING MODEL PERSISTENT FOR USE\n",
    "\n",
    "#VIEWING THE TEST DATASET\n",
    "print(X_test.tail(5).join(Y_test.tail(5)))"
   ],
   "metadata": {
    "collapsed": false,
    "pycharm": {
     "name": "#%%\n"
    }
   }
  },
  {
   "cell_type": "code",
   "execution_count": 64,
   "outputs": [
    {
     "data": {
      "text/plain": "['dissert_model.sav']"
     },
     "execution_count": 64,
     "metadata": {},
     "output_type": "execute_result"
    }
   ],
   "source": [
    "#SAVING MODEL\n",
    "my_model = 'dissert_model.sav'\n",
    "jb.dump(votingc, my_model)\n"
   ],
   "metadata": {
    "collapsed": false,
    "pycharm": {
     "name": "#%%\n"
    }
   }
  },
  {
   "cell_type": "code",
   "execution_count": 65,
   "outputs": [
    {
     "name": "stdout",
     "output_type": "stream",
     "text": [
      "\n",
      " This is the result of the persistent model\n",
      " 0.8666666666666667\n"
     ]
    }
   ],
   "source": [
    "\n",
    "#TESTING THE MODEL EFFECT\n",
    "\n",
    "load_my_model = jb.load(my_model)\n",
    "results = load_my_model.score(X_test, Y_test)\n",
    "print('\\n This is the result of the persistent model\\n', results)"
   ],
   "metadata": {
    "collapsed": false,
    "pycharm": {
     "name": "#%%\n"
    }
   }
  },
  {
   "cell_type": "code",
   "execution_count": 66,
   "outputs": [
    {
     "name": "stdout",
     "output_type": "stream",
     "text": [
      "This is the prediction\n",
      "[0]\n"
     ]
    },
    {
     "name": "stderr",
     "output_type": "stream",
     "text": [
      "/Users/hadizattalabi/venv/lib/python3.8/site-packages/sklearn/base.py:450: UserWarning: X does not have valid feature names, but DecisionTreeClassifier was fitted with feature names\n",
      "  warnings.warn(\n",
      "/Users/hadizattalabi/venv/lib/python3.8/site-packages/sklearn/base.py:450: UserWarning: X does not have valid feature names, but SVC was fitted with feature names\n",
      "  warnings.warn(\n",
      "/Users/hadizattalabi/venv/lib/python3.8/site-packages/sklearn/base.py:450: UserWarning: X does not have valid feature names, but LogisticRegression was fitted with feature names\n",
      "  warnings.warn(\n",
      "/Users/hadizattalabi/venv/lib/python3.8/site-packages/sklearn/base.py:450: UserWarning: X does not have valid feature names, but KNeighborsClassifier was fitted with feature names\n",
      "  warnings.warn(\n"
     ]
    }
   ],
   "source": [
    "x= 60.0,38,0.75,140,95\n",
    "client_data = np.array(x).reshape(1,-1)\n",
    "forte =load_my_model.predict(client_data)\n",
    "print('This is the prediction')\n",
    "print(forte)"
   ],
   "metadata": {
    "collapsed": false,
    "pycharm": {
     "name": "#%%\n"
    }
   }
  }
 ],
 "metadata": {
  "kernelspec": {
   "display_name": "Python 3",
   "language": "python",
   "name": "python3"
  },
  "language_info": {
   "codemirror_mode": {
    "name": "ipython",
    "version": 2
   },
   "file_extension": ".py",
   "mimetype": "text/x-python",
   "name": "python",
   "nbconvert_exporter": "python",
   "pygments_lexer": "ipython2",
   "version": "2.7.6"
  }
 },
 "nbformat": 4,
 "nbformat_minor": 0
}